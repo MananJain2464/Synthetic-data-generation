{
 "cells": [
  {
   "cell_type": "code",
   "execution_count": 1,
   "metadata": {},
   "outputs": [],
   "source": [
    "import pandas as pd \n",
    "import numpy as np \n",
    "import matplotlib.pyplot as plt \n",
    "import seaborn as sns "
   ]
  },
  {
   "cell_type": "code",
   "execution_count": 2,
   "metadata": {},
   "outputs": [],
   "source": [
    "my_data = pd.read_csv('Data.csv')"
   ]
  },
  {
   "cell_type": "code",
   "execution_count": 3,
   "metadata": {},
   "outputs": [
    {
     "data": {
      "text/html": [
       "<div>\n",
       "<style scoped>\n",
       "    .dataframe tbody tr th:only-of-type {\n",
       "        vertical-align: middle;\n",
       "    }\n",
       "\n",
       "    .dataframe tbody tr th {\n",
       "        vertical-align: top;\n",
       "    }\n",
       "\n",
       "    .dataframe thead th {\n",
       "        text-align: right;\n",
       "    }\n",
       "</style>\n",
       "<table border=\"1\" class=\"dataframe\">\n",
       "  <thead>\n",
       "    <tr style=\"text-align: right;\">\n",
       "      <th></th>\n",
       "      <th>Sex</th>\n",
       "      <th>Age_category</th>\n",
       "      <th>Highest_education_level</th>\n",
       "    </tr>\n",
       "  </thead>\n",
       "  <tbody>\n",
       "    <tr>\n",
       "      <th>0</th>\n",
       "      <td>2</td>\n",
       "      <td>2</td>\n",
       "      <td>2</td>\n",
       "    </tr>\n",
       "    <tr>\n",
       "      <th>1</th>\n",
       "      <td>1</td>\n",
       "      <td>2</td>\n",
       "      <td>3</td>\n",
       "    </tr>\n",
       "    <tr>\n",
       "      <th>2</th>\n",
       "      <td>2</td>\n",
       "      <td>1</td>\n",
       "      <td>2</td>\n",
       "    </tr>\n",
       "    <tr>\n",
       "      <th>3</th>\n",
       "      <td>2</td>\n",
       "      <td>2</td>\n",
       "      <td>3</td>\n",
       "    </tr>\n",
       "    <tr>\n",
       "      <th>4</th>\n",
       "      <td>1</td>\n",
       "      <td>2</td>\n",
       "      <td>2</td>\n",
       "    </tr>\n",
       "    <tr>\n",
       "      <th>...</th>\n",
       "      <td>...</td>\n",
       "      <td>...</td>\n",
       "      <td>...</td>\n",
       "    </tr>\n",
       "    <tr>\n",
       "      <th>195</th>\n",
       "      <td>2</td>\n",
       "      <td>1</td>\n",
       "      <td>1</td>\n",
       "    </tr>\n",
       "    <tr>\n",
       "      <th>196</th>\n",
       "      <td>1</td>\n",
       "      <td>2</td>\n",
       "      <td>2</td>\n",
       "    </tr>\n",
       "    <tr>\n",
       "      <th>197</th>\n",
       "      <td>2</td>\n",
       "      <td>1</td>\n",
       "      <td>3</td>\n",
       "    </tr>\n",
       "    <tr>\n",
       "      <th>198</th>\n",
       "      <td>1</td>\n",
       "      <td>1</td>\n",
       "      <td>0</td>\n",
       "    </tr>\n",
       "    <tr>\n",
       "      <th>199</th>\n",
       "      <td>2</td>\n",
       "      <td>2</td>\n",
       "      <td>3</td>\n",
       "    </tr>\n",
       "  </tbody>\n",
       "</table>\n",
       "<p>200 rows × 3 columns</p>\n",
       "</div>"
      ],
      "text/plain": [
       "     Sex  Age_category  Highest_education_level\n",
       "0      2             2                        2\n",
       "1      1             2                        3\n",
       "2      2             1                        2\n",
       "3      2             2                        3\n",
       "4      1             2                        2\n",
       "..   ...           ...                      ...\n",
       "195    2             1                        1\n",
       "196    1             2                        2\n",
       "197    2             1                        3\n",
       "198    1             1                        0\n",
       "199    2             2                        3\n",
       "\n",
       "[200 rows x 3 columns]"
      ]
     },
     "execution_count": 3,
     "metadata": {},
     "output_type": "execute_result"
    }
   ],
   "source": [
    "my_data"
   ]
  },
  {
   "cell_type": "code",
   "execution_count": 4,
   "metadata": {},
   "outputs": [
    {
     "data": {
      "text/html": [
       "<div>\n",
       "<style scoped>\n",
       "    .dataframe tbody tr th:only-of-type {\n",
       "        vertical-align: middle;\n",
       "    }\n",
       "\n",
       "    .dataframe tbody tr th {\n",
       "        vertical-align: top;\n",
       "    }\n",
       "\n",
       "    .dataframe thead th {\n",
       "        text-align: right;\n",
       "    }\n",
       "</style>\n",
       "<table border=\"1\" class=\"dataframe\">\n",
       "  <thead>\n",
       "    <tr style=\"text-align: right;\">\n",
       "      <th></th>\n",
       "      <th>Sex</th>\n",
       "      <th>Age_category</th>\n",
       "      <th>Highest_education_level</th>\n",
       "    </tr>\n",
       "  </thead>\n",
       "  <tbody>\n",
       "    <tr>\n",
       "      <th>Sex</th>\n",
       "      <td>1.000000</td>\n",
       "      <td>-0.015917</td>\n",
       "      <td>-0.069140</td>\n",
       "    </tr>\n",
       "    <tr>\n",
       "      <th>Age_category</th>\n",
       "      <td>-0.015917</td>\n",
       "      <td>1.000000</td>\n",
       "      <td>0.239223</td>\n",
       "    </tr>\n",
       "    <tr>\n",
       "      <th>Highest_education_level</th>\n",
       "      <td>-0.069140</td>\n",
       "      <td>0.239223</td>\n",
       "      <td>1.000000</td>\n",
       "    </tr>\n",
       "  </tbody>\n",
       "</table>\n",
       "</div>"
      ],
      "text/plain": [
       "                              Sex  Age_category  Highest_education_level\n",
       "Sex                      1.000000     -0.015917                -0.069140\n",
       "Age_category            -0.015917      1.000000                 0.239223\n",
       "Highest_education_level -0.069140      0.239223                 1.000000"
      ]
     },
     "execution_count": 4,
     "metadata": {},
     "output_type": "execute_result"
    }
   ],
   "source": [
    "my_data_corr = my_data.corr()\n",
    "my_data_corr"
   ]
  },
  {
   "cell_type": "code",
   "execution_count": 5,
   "metadata": {},
   "outputs": [],
   "source": [
    "from sklearn.linear_model import LinearRegression"
   ]
  },
  {
   "cell_type": "code",
   "execution_count": 6,
   "metadata": {},
   "outputs": [
    {
     "data": {
      "text/plain": [
       "[0.0009731393029177582, 0.06105471905240423, 0.030194634679886034]"
      ]
     },
     "execution_count": 6,
     "metadata": {},
     "output_type": "execute_result"
    }
   ],
   "source": [
    "from sklearn.model_selection import train_test_split \n",
    "from sklearn.linear_model import LinearRegression\n",
    "\n",
    "model_accuracy = []\n",
    "\n",
    "for i in range(3):\n",
    "    featured_data = [x for x in my_data.columns if x != my_data.columns[i]]\n",
    "    target_data = my_data.columns[i]\n",
    "    X = my_data[featured_data].values\n",
    "    y = my_data[target_data].values  # Correct assignment of the target variable\n",
    "    \n",
    "    X_train, X_test, y_train, y_test = train_test_split(X, y, test_size=0.2, random_state=42)\n",
    "    \n",
    "    model = LinearRegression()\n",
    "    model.fit(X_train, y_train)\n",
    "    \n",
    "    model_accuracy.append(model.score(X_test, y_test))\n",
    "\n",
    "model_accuracy\n",
    "\n",
    "\n"
   ]
  },
  {
   "cell_type": "code",
   "execution_count": 7,
   "metadata": {},
   "outputs": [
    {
     "data": {
      "text/plain": [
       "array([[0.99809366, 1.12072883],\n",
       "       [2.06252924, 0.9195311 ],\n",
       "       [1.17871134, 1.84641735],\n",
       "       ...,\n",
       "       [0.91940236, 0.93610753],\n",
       "       [1.07405388, 1.96773031],\n",
       "       [1.96529718, 2.16863405]])"
      ]
     },
     "execution_count": 7,
     "metadata": {},
     "output_type": "execute_result"
    }
   ],
   "source": [
    "from sklearn.neighbors import KernelDensity \n",
    "\n",
    "kde = KernelDensity(bandwidth=0.1, kernel='gaussian')  # Adjust bandwidth and kernel as needed\n",
    "\n",
    "# Fit the KDE model to your data\n",
    "kde.fit(X)\n",
    "\n",
    "# Sample from the KDE model\n",
    "# You can generate synthetic data by sampling from the KDE model\n",
    "synthetic_data = kde.sample(n_samples=50000, random_state=42)\n",
    "\n",
    "synthetic_data"
   ]
  },
  {
   "cell_type": "code",
   "execution_count": 9,
   "metadata": {},
   "outputs": [
    {
     "name": "stdout",
     "output_type": "stream",
     "text": [
      "Collecting copulas\n",
      "  Obtaining dependency information for copulas from https://files.pythonhosted.org/packages/0d/c2/366534be86ef6294fd8b75e0762037eb169962fd437afbbbd3b0248c7baa/copulas-0.11.0-py3-none-any.whl.metadata\n",
      "  Downloading copulas-0.11.0-py3-none-any.whl.metadata (10 kB)\n",
      "Collecting plotly>=5.10.0 (from copulas)\n",
      "  Obtaining dependency information for plotly>=5.10.0 from https://files.pythonhosted.org/packages/00/4e/6258fc3b26f1f7abd1b2e75b1e9e4f12f13584136e2e1549f995ff4c6b7b/plotly-5.20.0-py3-none-any.whl.metadata\n",
      "  Downloading plotly-5.20.0-py3-none-any.whl.metadata (7.0 kB)\n",
      "Requirement already satisfied: numpy>=1.23.3 in c:\\users\\divij\\anaconda3\\lib\\site-packages (from copulas) (1.24.3)\n",
      "Requirement already satisfied: scipy>=1.9.2 in c:\\users\\divij\\anaconda3\\lib\\site-packages (from copulas) (1.11.1)\n",
      "Requirement already satisfied: pandas>=1.5.0 in c:\\users\\divij\\anaconda3\\lib\\site-packages (from copulas) (2.0.3)\n",
      "Requirement already satisfied: python-dateutil>=2.8.2 in c:\\users\\divij\\anaconda3\\lib\\site-packages (from pandas>=1.5.0->copulas) (2.8.2)\n",
      "Requirement already satisfied: pytz>=2020.1 in c:\\users\\divij\\anaconda3\\lib\\site-packages (from pandas>=1.5.0->copulas) (2023.3.post1)\n",
      "Requirement already satisfied: tzdata>=2022.1 in c:\\users\\divij\\anaconda3\\lib\\site-packages (from pandas>=1.5.0->copulas) (2023.3)\n",
      "Requirement already satisfied: tenacity>=6.2.0 in c:\\users\\divij\\anaconda3\\lib\\site-packages (from plotly>=5.10.0->copulas) (8.2.2)\n",
      "Requirement already satisfied: packaging in c:\\users\\divij\\anaconda3\\lib\\site-packages (from plotly>=5.10.0->copulas) (23.1)\n",
      "Requirement already satisfied: six>=1.5 in c:\\users\\divij\\anaconda3\\lib\\site-packages (from python-dateutil>=2.8.2->pandas>=1.5.0->copulas) (1.16.0)\n",
      "Downloading copulas-0.11.0-py3-none-any.whl (51 kB)\n",
      "   ---------------------------------------- 0.0/51.9 kB ? eta -:--:--\n",
      "   ------- -------------------------------- 10.2/51.9 kB ? eta -:--:--\n",
      "   ---------------------------------------- 51.9/51.9 kB 887.2 kB/s eta 0:00:00\n",
      "Downloading plotly-5.20.0-py3-none-any.whl (15.7 MB)\n",
      "   ---------------------------------------- 0.0/15.7 MB ? eta -:--:--\n",
      "   ---------------------------------------- 0.1/15.7 MB 2.6 MB/s eta 0:00:06\n",
      "   - -------------------------------------- 0.4/15.7 MB 5.0 MB/s eta 0:00:04\n",
      "   - -------------------------------------- 0.7/15.7 MB 6.4 MB/s eta 0:00:03\n",
      "   -- ------------------------------------- 1.0/15.7 MB 5.8 MB/s eta 0:00:03\n",
      "   --- ------------------------------------ 1.4/15.7 MB 6.4 MB/s eta 0:00:03\n",
      "   ---- ----------------------------------- 1.7/15.7 MB 6.9 MB/s eta 0:00:03\n",
      "   ----- ---------------------------------- 2.1/15.7 MB 6.6 MB/s eta 0:00:03\n",
      "   ------ --------------------------------- 2.4/15.7 MB 6.8 MB/s eta 0:00:02\n",
      "   ------ --------------------------------- 2.7/15.7 MB 7.0 MB/s eta 0:00:02\n",
      "   ------- -------------------------------- 3.1/15.7 MB 6.8 MB/s eta 0:00:02\n",
      "   -------- ------------------------------- 3.5/15.7 MB 7.0 MB/s eta 0:00:02\n",
      "   --------- ------------------------------ 3.8/15.7 MB 7.1 MB/s eta 0:00:02\n",
      "   ---------- ----------------------------- 4.2/15.7 MB 7.0 MB/s eta 0:00:02\n",
      "   ----------- ---------------------------- 4.5/15.7 MB 7.0 MB/s eta 0:00:02\n",
      "   ------------ --------------------------- 4.8/15.7 MB 7.0 MB/s eta 0:00:02\n",
      "   ------------- -------------------------- 5.2/15.7 MB 7.1 MB/s eta 0:00:02\n",
      "   -------------- ------------------------- 5.6/15.7 MB 7.1 MB/s eta 0:00:02\n",
      "   -------------- ------------------------- 5.8/15.7 MB 7.2 MB/s eta 0:00:02\n",
      "   --------------- ------------------------ 6.2/15.7 MB 7.2 MB/s eta 0:00:02\n",
      "   ---------------- ----------------------- 6.6/15.7 MB 7.3 MB/s eta 0:00:02\n",
      "   ----------------- ---------------------- 6.9/15.7 MB 7.2 MB/s eta 0:00:02\n",
      "   ------------------ --------------------- 7.3/15.7 MB 7.3 MB/s eta 0:00:02\n",
      "   ------------------- -------------------- 7.6/15.7 MB 7.3 MB/s eta 0:00:02\n",
      "   -------------------- ------------------- 7.9/15.7 MB 7.2 MB/s eta 0:00:02\n",
      "   --------------------- ------------------ 8.3/15.7 MB 7.3 MB/s eta 0:00:02\n",
      "   ---------------------- ----------------- 8.6/15.7 MB 7.3 MB/s eta 0:00:01\n",
      "   ---------------------- ----------------- 8.7/15.7 MB 7.2 MB/s eta 0:00:01\n",
      "   ----------------------- ---------------- 9.0/15.7 MB 7.0 MB/s eta 0:00:01\n",
      "   ------------------------ --------------- 9.4/15.7 MB 7.1 MB/s eta 0:00:01\n",
      "   ------------------------ --------------- 9.8/15.7 MB 7.1 MB/s eta 0:00:01\n",
      "   ------------------------- -------------- 10.1/15.7 MB 7.1 MB/s eta 0:00:01\n",
      "   -------------------------- ------------- 10.5/15.7 MB 7.3 MB/s eta 0:00:01\n",
      "   --------------------------- ------------ 10.8/15.7 MB 7.3 MB/s eta 0:00:01\n",
      "   ---------------------------- ----------- 11.1/15.7 MB 7.2 MB/s eta 0:00:01\n",
      "   ----------------------------- ---------- 11.5/15.7 MB 7.3 MB/s eta 0:00:01\n",
      "   ------------------------------ --------- 11.8/15.7 MB 7.3 MB/s eta 0:00:01\n",
      "   ------------------------------ --------- 12.1/15.7 MB 7.2 MB/s eta 0:00:01\n",
      "   ------------------------------- -------- 12.5/15.7 MB 7.3 MB/s eta 0:00:01\n",
      "   -------------------------------- ------- 12.9/15.7 MB 7.3 MB/s eta 0:00:01\n",
      "   --------------------------------- ------ 13.2/15.7 MB 7.2 MB/s eta 0:00:01\n",
      "   ---------------------------------- ----- 13.6/15.7 MB 7.3 MB/s eta 0:00:01\n",
      "   ----------------------------------- ---- 13.9/15.7 MB 7.3 MB/s eta 0:00:01\n",
      "   ------------------------------------ --- 14.2/15.7 MB 7.2 MB/s eta 0:00:01\n",
      "   ------------------------------------- -- 14.6/15.7 MB 7.3 MB/s eta 0:00:01\n",
      "   -------------------------------------- - 14.9/15.7 MB 7.3 MB/s eta 0:00:01\n",
      "   -------------------------------------- - 15.3/15.7 MB 7.2 MB/s eta 0:00:01\n",
      "   ---------------------------------------  15.7/15.7 MB 7.3 MB/s eta 0:00:01\n",
      "   ---------------------------------------  15.7/15.7 MB 7.2 MB/s eta 0:00:01\n",
      "   ---------------------------------------- 15.7/15.7 MB 7.0 MB/s eta 0:00:00\n",
      "Installing collected packages: plotly, copulas\n",
      "  Attempting uninstall: plotly\n",
      "    Found existing installation: plotly 5.9.0\n",
      "    Uninstalling plotly-5.9.0:\n",
      "      Successfully uninstalled plotly-5.9.0\n",
      "Successfully installed copulas-0.11.0 plotly-5.20.0\n",
      "Note: you may need to restart the kernel to use updated packages.\n"
     ]
    }
   ],
   "source": [
    "pip install copulas\n"
   ]
  },
  {
   "cell_type": "code",
   "execution_count": 12,
   "metadata": {},
   "outputs": [
    {
     "name": "stderr",
     "output_type": "stream",
     "text": [
      "C:\\Users\\divij\\anaconda3\\Lib\\site-packages\\scipy\\stats\\_continuous_distns.py:719: RuntimeWarning: invalid value encountered in sqrt\n",
      "  sk = 2*(b-a)*np.sqrt(a + b + 1) / (a + b + 2) / np.sqrt(a*b)\n",
      "C:\\Users\\divij\\anaconda3\\Lib\\site-packages\\scipy\\optimize\\_minpack_py.py:177: RuntimeWarning: The iteration is not making good progress, as measured by the \n",
      "  improvement from the last ten iterations.\n",
      "  warnings.warn(msg, RuntimeWarning)\n",
      "C:\\Users\\divij\\anaconda3\\Lib\\site-packages\\scipy\\stats\\_continuous_distns.py:5999: RuntimeWarning: divide by zero encountered in divide\n",
      "  return c**2 / (c**2 - n**2)\n",
      "C:\\Users\\divij\\anaconda3\\Lib\\site-packages\\scipy\\stats\\_continuous_distns.py:5999: RuntimeWarning: divide by zero encountered in divide\n",
      "  return c**2 / (c**2 - n**2)\n",
      "C:\\Users\\divij\\anaconda3\\Lib\\site-packages\\scipy\\stats\\_continuous_distns.py:5999: RuntimeWarning: divide by zero encountered in divide\n",
      "  return c**2 / (c**2 - n**2)\n"
     ]
    }
   ],
   "source": [
    "import numpy as np\n",
    "import pandas as pd\n",
    "from scipy.stats import gaussian_kde\n",
    "from copulas.multivariate import GaussianMultivariate\n",
    "\n",
    "# Step 1: Estimate marginal distributions\n",
    "marginal_distributions = {}\n",
    "for column in my_data.columns:\n",
    "    kde = gaussian_kde(my_data[column])\n",
    "    marginal_distributions[column] = kde\n",
    "\n",
    "# Step 2: Fit a copula model\n",
    "copula = GaussianMultivariate()\n",
    "copula.fit(my_data)\n",
    "\n",
    "# Step 3: Generate synthetic copula data\n",
    "synthetic_copula_data = copula.sample(num_samples)\n",
    "\n",
    "# Step 4: Transform synthetic copula data\n",
    "synthetic_data = {}\n",
    "for column in my_data.columns:\n",
    "    # Approximate inverse CDF using integrate_box_1d\n",
    "    def inverse_cdf(u):\n",
    "        return marginal_distributions[column].integrate_box_1d(0, u)\n",
    "\n",
    "    # Apply inverse CDF to synthetic copula data\n",
    "    synthetic_data[column] = np.array([inverse_cdf(u) for u in synthetic_copula_data[column]])\n",
    "\n",
    "# Convert synthetic data to DataFrame\n",
    "synthetic_df = pd.DataFrame(synthetic_data)"
   ]
  },
  {
   "cell_type": "code",
   "execution_count": 13,
   "metadata": {},
   "outputs": [
    {
     "data": {
      "text/html": [
       "<div>\n",
       "<style scoped>\n",
       "    .dataframe tbody tr th:only-of-type {\n",
       "        vertical-align: middle;\n",
       "    }\n",
       "\n",
       "    .dataframe tbody tr th {\n",
       "        vertical-align: top;\n",
       "    }\n",
       "\n",
       "    .dataframe thead th {\n",
       "        text-align: right;\n",
       "    }\n",
       "</style>\n",
       "<table border=\"1\" class=\"dataframe\">\n",
       "  <thead>\n",
       "    <tr style=\"text-align: right;\">\n",
       "      <th></th>\n",
       "      <th>Sex</th>\n",
       "      <th>Age_category</th>\n",
       "      <th>Highest_education_level</th>\n",
       "    </tr>\n",
       "  </thead>\n",
       "  <tbody>\n",
       "    <tr>\n",
       "      <th>0</th>\n",
       "      <td>0.996927</td>\n",
       "      <td>0.494366</td>\n",
       "      <td>0.473001</td>\n",
       "    </tr>\n",
       "    <tr>\n",
       "      <th>1</th>\n",
       "      <td>0.878542</td>\n",
       "      <td>0.541014</td>\n",
       "      <td>0.355634</td>\n",
       "    </tr>\n",
       "    <tr>\n",
       "      <th>2</th>\n",
       "      <td>0.929985</td>\n",
       "      <td>0.965192</td>\n",
       "      <td>0.627371</td>\n",
       "    </tr>\n",
       "    <tr>\n",
       "      <th>3</th>\n",
       "      <td>0.391270</td>\n",
       "      <td>0.264366</td>\n",
       "      <td>0.527208</td>\n",
       "    </tr>\n",
       "    <tr>\n",
       "      <th>4</th>\n",
       "      <td>0.591026</td>\n",
       "      <td>0.464075</td>\n",
       "      <td>0.399376</td>\n",
       "    </tr>\n",
       "    <tr>\n",
       "      <th>...</th>\n",
       "      <td>...</td>\n",
       "      <td>...</td>\n",
       "      <td>...</td>\n",
       "    </tr>\n",
       "    <tr>\n",
       "      <th>49995</th>\n",
       "      <td>0.563129</td>\n",
       "      <td>0.487849</td>\n",
       "      <td>0.368299</td>\n",
       "    </tr>\n",
       "    <tr>\n",
       "      <th>49996</th>\n",
       "      <td>0.439742</td>\n",
       "      <td>0.860026</td>\n",
       "      <td>0.691818</td>\n",
       "    </tr>\n",
       "    <tr>\n",
       "      <th>49997</th>\n",
       "      <td>0.635635</td>\n",
       "      <td>0.866235</td>\n",
       "      <td>0.349410</td>\n",
       "    </tr>\n",
       "    <tr>\n",
       "      <th>49998</th>\n",
       "      <td>0.128611</td>\n",
       "      <td>0.148816</td>\n",
       "      <td>-0.072047</td>\n",
       "    </tr>\n",
       "    <tr>\n",
       "      <th>49999</th>\n",
       "      <td>0.324502</td>\n",
       "      <td>0.590900</td>\n",
       "      <td>0.487715</td>\n",
       "    </tr>\n",
       "  </tbody>\n",
       "</table>\n",
       "<p>50000 rows × 3 columns</p>\n",
       "</div>"
      ],
      "text/plain": [
       "            Sex  Age_category  Highest_education_level\n",
       "0      0.996927      0.494366                 0.473001\n",
       "1      0.878542      0.541014                 0.355634\n",
       "2      0.929985      0.965192                 0.627371\n",
       "3      0.391270      0.264366                 0.527208\n",
       "4      0.591026      0.464075                 0.399376\n",
       "...         ...           ...                      ...\n",
       "49995  0.563129      0.487849                 0.368299\n",
       "49996  0.439742      0.860026                 0.691818\n",
       "49997  0.635635      0.866235                 0.349410\n",
       "49998  0.128611      0.148816                -0.072047\n",
       "49999  0.324502      0.590900                 0.487715\n",
       "\n",
       "[50000 rows x 3 columns]"
      ]
     },
     "execution_count": 13,
     "metadata": {},
     "output_type": "execute_result"
    }
   ],
   "source": [
    "synthetic_df"
   ]
  },
  {
   "cell_type": "code",
   "execution_count": 14,
   "metadata": {},
   "outputs": [
    {
     "name": "stderr",
     "output_type": "stream",
     "text": [
      "C:\\Users\\divij\\anaconda3\\Lib\\site-packages\\scipy\\stats\\_continuous_distns.py:719: RuntimeWarning: invalid value encountered in sqrt\n",
      "  sk = 2*(b-a)*np.sqrt(a + b + 1) / (a + b + 2) / np.sqrt(a*b)\n",
      "C:\\Users\\divij\\anaconda3\\Lib\\site-packages\\scipy\\optimize\\_minpack_py.py:177: RuntimeWarning: The iteration is not making good progress, as measured by the \n",
      "  improvement from the last ten iterations.\n",
      "  warnings.warn(msg, RuntimeWarning)\n",
      "C:\\Users\\divij\\anaconda3\\Lib\\site-packages\\scipy\\stats\\_continuous_distns.py:5999: RuntimeWarning: divide by zero encountered in divide\n",
      "  return c**2 / (c**2 - n**2)\n",
      "C:\\Users\\divij\\anaconda3\\Lib\\site-packages\\scipy\\stats\\_continuous_distns.py:5999: RuntimeWarning: divide by zero encountered in divide\n",
      "  return c**2 / (c**2 - n**2)\n",
      "C:\\Users\\divij\\anaconda3\\Lib\\site-packages\\scipy\\stats\\_continuous_distns.py:5999: RuntimeWarning: divide by zero encountered in divide\n",
      "  return c**2 / (c**2 - n**2)\n"
     ]
    }
   ],
   "source": [
    "import numpy as np\n",
    "import pandas as pd\n",
    "from scipy.stats import gaussian_kde\n",
    "from copulas.multivariate import GaussianMultivariate\n",
    "\n",
    "# Define mappings for each column\n",
    "sex_mapping = {1: 'male', 2: 'female'}\n",
    "age_category_mapping = {1: 'young', 2: 'middle-aged', 3: 'old'}\n",
    "highest_education_level_mapping = {0: 'none', 1: 'primary', 2: 'secondary', 3: 'tertiary'}\n",
    "\n",
    "# Step 1: Estimate marginal distributions\n",
    "marginal_distributions = {}\n",
    "for column in my_data.columns:\n",
    "    kde = gaussian_kde(my_data[column])\n",
    "    marginal_distributions[column] = kde\n",
    "\n",
    "# Step 2: Fit a copula model\n",
    "copula = GaussianMultivariate()\n",
    "copula.fit(my_data)\n",
    "\n",
    "# Step 3: Generate synthetic copula data\n",
    "synthetic_copula_data = copula.sample(num_samples)\n",
    "\n",
    "# Step 4: Transform synthetic copula data\n",
    "synthetic_data = {}\n",
    "for column in my_data.columns:\n",
    "    # Approximate inverse CDF using integrate_box_1d\n",
    "    def inverse_cdf(u):\n",
    "        return marginal_distributions[column].integrate_box_1d(0, u)\n",
    "\n",
    "    # Apply inverse CDF to synthetic copula data\n",
    "    transformed_values = np.array([inverse_cdf(u) for u in synthetic_copula_data[column]])\n",
    "\n",
    "    # Calculate cumulative probabilities for integer categories\n",
    "    unique_values = np.sort(my_data[column].unique())\n",
    "    cumulative_probs = np.array([marginal_distributions[column].integrate_box_1d(-np.inf, value) for value in unique_values])\n",
    "    cumulative_probs /= cumulative_probs.sum()\n",
    "\n",
    "    # Map transformed values to integer categories based on cumulative probabilities\n",
    "    synthetic_data[column] = np.array([unique_values[np.argmax(cumulative_probs >= value)] for value in transformed_values])"
   ]
  },
  {
   "cell_type": "code",
   "execution_count": 15,
   "metadata": {},
   "outputs": [
    {
     "data": {
      "text/plain": [
       "{'Sex': array([1, 1, 2, ..., 1, 2, 2], dtype=int64),\n",
       " 'Age_category': array([1, 2, 2, ..., 1, 1, 2], dtype=int64),\n",
       " 'Highest_education_level': array([0, 0, 3, ..., 0, 2, 1], dtype=int64)}"
      ]
     },
     "execution_count": 15,
     "metadata": {},
     "output_type": "execute_result"
    }
   ],
   "source": [
    "synthetic_data"
   ]
  },
  {
   "cell_type": "code",
   "execution_count": 16,
   "metadata": {},
   "outputs": [
    {
     "name": "stdout",
     "output_type": "stream",
     "text": [
      "       Sex  Age_category  Highest_education_level\n",
      "0        1             1                        0\n",
      "1        1             2                        0\n",
      "2        2             2                        3\n",
      "3        2             1                        0\n",
      "4        2             1                        0\n",
      "...    ...           ...                      ...\n",
      "49995    1             1                        3\n",
      "49996    2             1                        0\n",
      "49997    1             1                        0\n",
      "49998    2             1                        2\n",
      "49999    2             2                        1\n",
      "\n",
      "[50000 rows x 3 columns]\n"
     ]
    }
   ],
   "source": [
    "\n",
    "\n",
    "\n",
    "\n",
    "# Convert the dictionary into a Pandas DataFrame\n",
    "df = pd.DataFrame(synthetic_data)\n",
    "\n",
    "# Print the DataFrame\n",
    "print(df)\n"
   ]
  },
  {
   "cell_type": "code",
   "execution_count": 17,
   "metadata": {},
   "outputs": [
    {
     "data": {
      "text/plain": [
       "array([1, 2, 3], dtype=int64)"
      ]
     },
     "execution_count": 17,
     "metadata": {},
     "output_type": "execute_result"
    }
   ],
   "source": [
    "df['Age_category'].unique()"
   ]
  },
  {
   "cell_type": "code",
   "execution_count": 18,
   "metadata": {},
   "outputs": [
    {
     "data": {
      "text/html": [
       "<div>\n",
       "<style scoped>\n",
       "    .dataframe tbody tr th:only-of-type {\n",
       "        vertical-align: middle;\n",
       "    }\n",
       "\n",
       "    .dataframe tbody tr th {\n",
       "        vertical-align: top;\n",
       "    }\n",
       "\n",
       "    .dataframe thead th {\n",
       "        text-align: right;\n",
       "    }\n",
       "</style>\n",
       "<table border=\"1\" class=\"dataframe\">\n",
       "  <thead>\n",
       "    <tr style=\"text-align: right;\">\n",
       "      <th></th>\n",
       "      <th>Sex</th>\n",
       "      <th>Age_category</th>\n",
       "      <th>Highest_education_level</th>\n",
       "    </tr>\n",
       "  </thead>\n",
       "  <tbody>\n",
       "    <tr>\n",
       "      <th>Sex</th>\n",
       "      <td>1.000000</td>\n",
       "      <td>0.005152</td>\n",
       "      <td>-0.003165</td>\n",
       "    </tr>\n",
       "    <tr>\n",
       "      <th>Age_category</th>\n",
       "      <td>0.005152</td>\n",
       "      <td>1.000000</td>\n",
       "      <td>0.020841</td>\n",
       "    </tr>\n",
       "    <tr>\n",
       "      <th>Highest_education_level</th>\n",
       "      <td>-0.003165</td>\n",
       "      <td>0.020841</td>\n",
       "      <td>1.000000</td>\n",
       "    </tr>\n",
       "  </tbody>\n",
       "</table>\n",
       "</div>"
      ],
      "text/plain": [
       "                              Sex  Age_category  Highest_education_level\n",
       "Sex                      1.000000      0.005152                -0.003165\n",
       "Age_category             0.005152      1.000000                 0.020841\n",
       "Highest_education_level -0.003165      0.020841                 1.000000"
      ]
     },
     "execution_count": 18,
     "metadata": {},
     "output_type": "execute_result"
    }
   ],
   "source": [
    "df.corr()"
   ]
  },
  {
   "cell_type": "code",
   "execution_count": null,
   "metadata": {},
   "outputs": [],
   "source": []
  }
 ],
 "metadata": {
  "kernelspec": {
   "display_name": "Python 3 (ipykernel)",
   "language": "python",
   "name": "python3"
  },
  "language_info": {
   "codemirror_mode": {
    "name": "ipython",
    "version": 3
   },
   "file_extension": ".py",
   "mimetype": "text/x-python",
   "name": "python",
   "nbconvert_exporter": "python",
   "pygments_lexer": "ipython3",
   "version": "3.11.5"
  }
 },
 "nbformat": 4,
 "nbformat_minor": 2
}
